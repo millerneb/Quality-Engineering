{
 "cells": [
  {
   "cell_type": "code",
   "execution_count": 159,
   "metadata": {},
   "outputs": [
    {
     "name": "stdout",
     "output_type": "stream",
     "text": [
      "\n",
      " ARL is:\n",
      "353.072\n"
     ]
    }
   ],
   "source": [
    "import numpy as np\n",
    "import math\n",
    "from random import randrange\n",
    "from matplotlib import pyplot as plt\n",
    "\n",
    "RL = np.array([])\n",
    "\n",
    "target_mean = 10\n",
    "mean = 10\n",
    "sigma = 5\n",
    "run = 1000 # Number of ARL runs (Ideally 1,000)\n",
    "p = 1000 # Number of variables in X (Ideally 10,000)\n",
    "n = 2 # Sample Size\n",
    "K = 0.5 * sigma\n",
    "H = 4.15 * sigma\n",
    "d2 = 1.128\n",
    "d4 = 3.269\n",
    "\n",
    "z = np.zeros(p-1)\n",
    "\n",
    "i = 0\n",
    "j = 0\n",
    "\n",
    "UCLx = target_mean + 3.5 * sigma / np.sqrt (n)\n",
    "UCLr = (1.3) * d4\n",
    "\n",
    "for i in range (run):\n",
    "    #print (i)\n",
    "    \n",
    "    X = np.array([])\n",
    "    Xbar = np.array([])\n",
    "    MRrange = np.array([])\n",
    "    Cplus = np.zeros(p-1)\n",
    "    \n",
    "    X = np.random.normal(mean, sigma, p)\n",
    "     \n",
    "    ############# IX #############\n",
    "    for j in range(p-1):\n",
    "        Xb = (X[j] + X[j+1])/2\n",
    "        Xbar = np.append(Xbar,Xb)\n",
    "        \n",
    "        MRi = abs(X[j]-X[j+1])\n",
    "        MRrange = np.append(MRrange,MRi)\n",
    "    \n",
    "    MRbar = np.average(MRrange)\n",
    "    Xdbar = np.average(Xbar)\n",
    "        \n",
    "    ############# CUMSUM #############\n",
    "    for j in range (p-1):\n",
    "\n",
    "        C = np.maximum(z[j],(X[j]-(target_mean + K) + Cplus[j-1]))\n",
    "        Cplus[j] = C\n",
    "        \n",
    "    ############# Count #############\n",
    "    b = 0\n",
    "    #while Cplus[b] < H and Xbar[b] < UCLx and MRrange[b] < UCLr :\n",
    "    #while Xbar[b] < UCLx: # IX - X Bar\n",
    "    while Cplus[b] < H : # CUSUM\n",
    "    #while Xbar[b] < UCLx and MRrange[b] < UCLr : #IX and MR\n",
    "        b = b + 1\n",
    "        if(b == (p-1)):\n",
    "            break   \n",
    "    \n",
    "    RL = np.append(RL,b)\n",
    "\n",
    "ARL = np.average(RL)\n",
    "print(\"\\n ARL is:\")\n",
    "print (ARL) \n"
   ]
  },
  {
   "cell_type": "code",
   "execution_count": null,
   "metadata": {},
   "outputs": [],
   "source": []
  },
  {
   "cell_type": "code",
   "execution_count": null,
   "metadata": {},
   "outputs": [],
   "source": []
  }
 ],
 "metadata": {
  "kernelspec": {
   "display_name": "Python 3",
   "language": "python",
   "name": "python3"
  },
  "language_info": {
   "codemirror_mode": {
    "name": "ipython",
    "version": 3
   },
   "file_extension": ".py",
   "mimetype": "text/x-python",
   "name": "python",
   "nbconvert_exporter": "python",
   "pygments_lexer": "ipython3",
   "version": "3.7.4"
  }
 },
 "nbformat": 4,
 "nbformat_minor": 2
}
